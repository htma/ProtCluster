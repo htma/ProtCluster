{
 "cells": [
  {
   "cell_type": "markdown",
   "id": "41c69eb3-5c3e-4b20-a493-639a55c49405",
   "metadata": {},
   "source": [
    "**PLMSearch Result Analysis**\n",
    "\n",
    "In this notebook, we demonstrate the results analysis of PLMSearch a query on Uniref50 database.\n",
    "PLMSearch ref: \n",
    "Query protein is from Liu's.\n",
    "\n"
   ]
  },
  {
   "cell_type": "markdown",
   "id": "6ac19b43-0eeb-4197-9d7d-4eb43788afe0",
   "metadata": {},
   "source": [
    "- Task: Liu’s protein plmsearch result analysis\n",
    "    1. reading result files, similarity.txt, identity.txt\n",
    "    2. find proteins with lower identify score, but high similarity (that means these ones has high structure similarity with query protein)\n",
    "    3. sort the result proteins by similarity and print (protein_hame, similarity, identify_score)"
   ]
  },
  {
   "cell_type": "code",
   "execution_count": 2,
   "id": "7c4d0322",
   "metadata": {},
   "outputs": [
    {
     "name": "stdout",
     "output_type": "stream",
     "text": [
      "Collecting biopython\n",
      "  Using cached biopython-1.84-cp312-cp312-manylinux_2_17_x86_64.manylinux2014_x86_64.whl.metadata (12 kB)\n",
      "Requirement already satisfied: numpy in /home/mht/anaconda3/envs/jbook/lib/python3.12/site-packages (from biopython) (2.1.1)\n",
      "Using cached biopython-1.84-cp312-cp312-manylinux_2_17_x86_64.manylinux2014_x86_64.whl (3.2 MB)\n",
      "Installing collected packages: biopython\n",
      "Successfully installed biopython-1.84\n"
     ]
    }
   ],
   "source": [
    "!pip install pandas biopython"
   ]
  },
  {
   "cell_type": "code",
   "execution_count": 2,
   "id": "9bbfbe6b-684e-4086-9fff-520a8150e5a2",
   "metadata": {},
   "outputs": [],
   "source": [
    "import numpy as np\n",
    "import pandas as pd\n",
    "from Bio import SeqIO"
   ]
  },
  {
   "cell_type": "code",
   "execution_count": 3,
   "id": "078b5a4c-fe13-4076-8c3d-9b53e612d0d2",
   "metadata": {},
   "outputs": [],
   "source": [
    "def read_fasta(fn_fasta):    \n",
    "    prot2seq = {}\n",
    "    with open(input_fasta) as handle:\n",
    "        for record in SeqIO.parse(handle, \"fasta\"):\n",
    "      #      print(record.id, record.seq)\n",
    "            seq = str(record.seq)\n",
    "            prot = record.id\n",
    "            prot2seq[prot] = seq\n",
    "    return prot2seq"
   ]
  },
  {
   "cell_type": "code",
   "execution_count": 4,
   "id": "0d8ebd1d-7c37-4e2d-98b5-190a987dc694",
   "metadata": {},
   "outputs": [
    {
     "name": "stdout",
     "output_type": "stream",
     "text": [
      "P13240 MGSKLLVLFVFVMLFALSSAIPNKRKPYKPCKNLVFYFHDILYNGKNAANATSAIVAAPEGVSLTKLAPQSHFGNIIVFDDPITLSHSLSSKQVGRAQGFYIYDTKNTYTSWLSFTFVLNSTHHQGTITFAGADPIVAKTRDISVTGGTGDFFMHRGIATITTDAFEGEAYFRLGVYIKFFECW\n"
     ]
    }
   ],
   "source": [
    "# Load data\n",
    "input_fasta = './liu_a_protein.fasta'\n",
    "prot2seq = read_fasta(input_fasta)\n",
    "for id in prot2seq.keys():\n",
    "    print(id, prot2seq[id])"
   ]
  },
  {
   "cell_type": "code",
   "execution_count": 25,
   "id": "cea3ca15-1f90-4c91-ad6e-c56b2e3ef321",
   "metadata": {},
   "outputs": [
    {
     "data": {
      "text/html": [
       "<div>\n",
       "<style scoped>\n",
       "    .dataframe tbody tr th:only-of-type {\n",
       "        vertical-align: middle;\n",
       "    }\n",
       "\n",
       "    .dataframe tbody tr th {\n",
       "        vertical-align: top;\n",
       "    }\n",
       "\n",
       "    .dataframe thead th {\n",
       "        text-align: right;\n",
       "    }\n",
       "</style>\n",
       "<table border=\"1\" class=\"dataframe\">\n",
       "  <thead>\n",
       "    <tr style=\"text-align: right;\">\n",
       "      <th></th>\n",
       "      <th>query_prot</th>\n",
       "      <th>target_prot</th>\n",
       "      <th>identity_score</th>\n",
       "      <th>TM_score</th>\n",
       "    </tr>\n",
       "  </thead>\n",
       "  <tbody>\n",
       "    <tr>\n",
       "      <th>8</th>\n",
       "      <td>P13240</td>\n",
       "      <td>A0A2G9HEL7</td>\n",
       "      <td>0.2715</td>\n",
       "      <td>0.9981</td>\n",
       "    </tr>\n",
       "    <tr>\n",
       "      <th>9</th>\n",
       "      <td>P13240</td>\n",
       "      <td>A0A218WIB9</td>\n",
       "      <td>0.3357</td>\n",
       "      <td>0.9980</td>\n",
       "    </tr>\n",
       "    <tr>\n",
       "      <th>5</th>\n",
       "      <td>P13240</td>\n",
       "      <td>A0A0D3E965</td>\n",
       "      <td>0.3396</td>\n",
       "      <td>0.9985</td>\n",
       "    </tr>\n",
       "    <tr>\n",
       "      <th>4</th>\n",
       "      <td>P13240</td>\n",
       "      <td>O82498</td>\n",
       "      <td>0.3619</td>\n",
       "      <td>0.9985</td>\n",
       "    </tr>\n",
       "    <tr>\n",
       "      <th>7</th>\n",
       "      <td>P13240</td>\n",
       "      <td>A0A6P6TEG1</td>\n",
       "      <td>0.3692</td>\n",
       "      <td>0.9982</td>\n",
       "    </tr>\n",
       "    <tr>\n",
       "      <th>2</th>\n",
       "      <td>P13240</td>\n",
       "      <td>A0A6P6TWG0</td>\n",
       "      <td>0.4078</td>\n",
       "      <td>0.9986</td>\n",
       "    </tr>\n",
       "    <tr>\n",
       "      <th>3</th>\n",
       "      <td>P13240</td>\n",
       "      <td>Q9SUQ8</td>\n",
       "      <td>0.4154</td>\n",
       "      <td>0.9985</td>\n",
       "    </tr>\n",
       "    <tr>\n",
       "      <th>6</th>\n",
       "      <td>P13240</td>\n",
       "      <td>A0A6P5T1Z4</td>\n",
       "      <td>0.4667</td>\n",
       "      <td>0.9982</td>\n",
       "    </tr>\n",
       "    <tr>\n",
       "      <th>1</th>\n",
       "      <td>P13240</td>\n",
       "      <td>Q1ZZU9</td>\n",
       "      <td>0.4940</td>\n",
       "      <td>0.9988</td>\n",
       "    </tr>\n",
       "    <tr>\n",
       "      <th>0</th>\n",
       "      <td>P13240</td>\n",
       "      <td>P13240</td>\n",
       "      <td>1.0000</td>\n",
       "      <td>1.0000</td>\n",
       "    </tr>\n",
       "  </tbody>\n",
       "</table>\n",
       "</div>"
      ],
      "text/plain": [
       "  query_prot target_prot  identity_score  TM_score\n",
       "8     P13240  A0A2G9HEL7          0.2715    0.9981\n",
       "9     P13240  A0A218WIB9          0.3357    0.9980\n",
       "5     P13240  A0A0D3E965          0.3396    0.9985\n",
       "4     P13240      O82498          0.3619    0.9985\n",
       "7     P13240  A0A6P6TEG1          0.3692    0.9982\n",
       "2     P13240  A0A6P6TWG0          0.4078    0.9986\n",
       "3     P13240      Q9SUQ8          0.4154    0.9985\n",
       "6     P13240  A0A6P5T1Z4          0.4667    0.9982\n",
       "1     P13240      Q1ZZU9          0.4940    0.9988\n",
       "0     P13240      P13240          1.0000    1.0000"
      ]
     },
     "execution_count": 25,
     "metadata": {},
     "output_type": "execute_result"
    }
   ],
   "source": [
    "sim_df = pd.read_csv('similarity.txt', sep='\\t',header=None, names=['query_prot','target_prot','TM_score'])\n",
    "sim_df.head()\n",
    "iden_df = pd.read_csv('sequence_identity.txt', sep='\\t', header=None,\n",
    "                      names=['query_prot', 'target_prot', 'identity_score'])\n",
    "sorted_idf = iden_df.sort_values(by='identity_score')\n",
    "result = pd.concat([sorted_idf, sim_df['TM_score']], axis=1, join='inner')\n",
    "result"
   ]
  },
  {
   "cell_type": "code",
   "execution_count": null,
   "id": "af427735-db3b-4695-9641-f45858d18c48",
   "metadata": {},
   "outputs": [],
   "source": []
  }
 ],
 "metadata": {
  "kernelspec": {
   "display_name": "Python 3 (ipykernel)",
   "language": "python",
   "name": "python3"
  },
  "language_info": {
   "codemirror_mode": {
    "name": "ipython",
    "version": 3
   },
   "file_extension": ".py",
   "mimetype": "text/x-python",
   "name": "python",
   "nbconvert_exporter": "python",
   "pygments_lexer": "ipython3",
   "version": "3.12.5"
  }
 },
 "nbformat": 4,
 "nbformat_minor": 5
}
